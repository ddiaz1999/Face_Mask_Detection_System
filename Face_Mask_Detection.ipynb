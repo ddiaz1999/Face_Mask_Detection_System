{
  "nbformat": 4,
  "nbformat_minor": 0,
  "metadata": {
    "colab": {
      "name": "Face Mask Detection.ipynb",
      "provenance": [],
      "collapsed_sections": [],
      "authorship_tag": "ABX9TyO4s8AaVpMNWexmqtWhPL+Z",
      "include_colab_link": true
    },
    "kernelspec": {
      "name": "python3",
      "display_name": "Python 3"
    }
  },
  "cells": [
    {
      "cell_type": "markdown",
      "metadata": {
        "id": "view-in-github",
        "colab_type": "text"
      },
      "source": [
        "<a href=\"https://colab.research.google.com/github/ddiaz1999/Face_Mask_Detection_System/blob/master/Face_Mask_Detection.ipynb\" target=\"_parent\"><img src=\"https://colab.research.google.com/assets/colab-badge.svg\" alt=\"Open In Colab\"/></a>"
      ]
    },
    {
      "cell_type": "code",
      "metadata": {
        "id": "iEL8w9wxJOXb"
      },
      "source": [
        "import cv2\n",
        "import numpy as np\n",
        "from google.colab.patches import cv2_imshow\n",
        "\n",
        "img = np.zeros((400,700,3), np.uint8)\n",
        "img[:,:,0] = np.ones(img.shape[:-1], np.uint8) * 128\n",
        "img[:,:,1] = np.ones(img.shape[:-1], np.uint8) * 0\n",
        "img[:,:,2] = np.ones(img.shape[:-1], np.uint8) * 255\n",
        "\n",
        "x0_v, y0_v, x1_v, y1_v = (img.shape[1]-1)//2 , 0 , (img.shape[1]-1)//2 , img.shape[0]-1 \n",
        "x0_h, y0_h, x1_h, y1_h = 0 , (img.shape[0]-1)//2 , img.shape[1]-1  , (img.shape[0]-1)//2\n",
        "\n",
        "#img = cv2.line(img, (x0_h, y0_h), (x1_h, y1_h), (0, 0, 0), 1)\n",
        "#img = cv2.line(img, (x0_v, y0_v), (x1_v, y1_v), (0, 0, 0), 1)\n",
        "    \n",
        "text = 'Hi world'\n",
        "font = cv2.FONT_HERSHEY_SIMPLEX \n",
        "fontScale = 1.5\n",
        "color = (255, 0, 0) \n",
        "thickness = 2\n",
        "   \n",
        "textSize = cv2.getTextSize(text=text, fontFace=font, fontScale=fontScale, thickness=thickness)[0]\n",
        "\n",
        "x0 = ((img.shape[1]-1) - textSize[0])//2 \n",
        "y0 = ((img.shape[0]-1) + textSize[1])//2 - (textSize[1]//5)\n",
        "\n",
        "org = (x0, y0) \n",
        "\n",
        "image = cv2.putText(img, text, org, font, fontScale, color, thickness, cv2.LINE_AA)\n",
        "\n",
        "cv2_imshow(img)"
      ],
      "execution_count": null,
      "outputs": []
    },
    {
      "cell_type": "code",
      "metadata": {
        "id": "VYEk3sykrTkW"
      },
      "source": [
        "print('BB hermoso')"
      ],
      "execution_count": null,
      "outputs": []
    }
  ]
}